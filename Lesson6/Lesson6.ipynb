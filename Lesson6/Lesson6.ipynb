{
 "cells": [
  {
   "cell_type": "code",
   "execution_count": 1,
   "id": "5882b036",
   "metadata": {},
   "outputs": [],
   "source": [
    "from PIL import Image\n",
    "import numpy as np\n",
    "import pyresample as pr\n",
    "from pycoast import ContourWriterAGG\n",
    "import aggdraw"
   ]
  },
  {
   "cell_type": "code",
   "execution_count": 2,
   "id": "84d1f65a",
   "metadata": {},
   "outputs": [],
   "source": [
    "Source_def = pr.load_area('../Table/Projection.proj','KoChi_1800') # 原始FDK資料的投影\n",
    "Image_def = pr.load_area('../Table/Projection.proj','LCC_1000')  # 輸出圖檔的投影"
   ]
  },
  {
   "cell_type": "code",
   "execution_count": 3,
   "id": "cd209e54",
   "metadata": {},
   "outputs": [],
   "source": [
    "PGMIR1='HMW821070100IR1.pgm'\n",
    "cntS = np.fromfile(PGMIR1,dtype='uint8')\n",
    "dsize=1800\n",
    "arraysize=dsize*dsize\n",
    "cntS = cntS[-arraysize:]\n",
    "cntS = cntS.reshape((dsize,dsize))"
   ]
  },
  {
   "cell_type": "code",
   "execution_count": 4,
   "id": "154ea9d9",
   "metadata": {},
   "outputs": [],
   "source": [
    "RoI = 5000 # 取樣之影響半徑\n",
    "Cnt = pr.kd_tree.resample_nearest(Source_def, cntS, Image_def, radius_of_influence=RoI)"
   ]
  },
  {
   "attachments": {},
   "cell_type": "markdown",
   "id": "1d37a9ad",
   "metadata": {},
   "source": [
    "# 本堂課程：色調強化雲圖\n",
    "處理的流程如下：\n",
    "1. 沿續Lesson5的程式。\n",
    "2. 謮取cnt的陣列大小為(xs,ys)定義一個新的陣例cntRGB，大小為（ys,xs,3）\n",
    "3. 根據對照表格，cnt值轉換為RGB顏色。\n",
    "4. SHOW！"
   ]
  },
  {
   "cell_type": "code",
   "execution_count": 9,
   "id": "292e5283",
   "metadata": {},
   "outputs": [],
   "source": [
    "xs = Cnt.shape[0]\n",
    "ys = Cnt.shape[1]\n",
    "cntRGB = np.zeros((xs,ys,3),dtype=np.uint8)"
   ]
  },
  {
   "cell_type": "markdown",
   "id": "1adbfbf9",
   "metadata": {},
   "source": [
    "<img src=\"colartable.png\" alt=\"colartable\" width=50%/>"
   ]
  },
  {
   "cell_type": "code",
   "execution_count": 10,
   "id": "43a54f19",
   "metadata": {},
   "outputs": [],
   "source": [
    "for x in range(xs) :\n",
    " for y in range(ys) :\n",
    "  if Cnt[y,x] > 249 : # -90. :\n",
    "     cntRGB[y,x,:] = [255,255,255]\n",
    "  elif Cnt[y,x] >243 : #-80. :\n",
    "     cntRGB[y,x,:] = [255,70,255]\n",
    "  elif Cnt[y,x] >237 : # -70. :\n",
    "     cntRGB[y,x,:] = [255,0,255]\n",
    "  elif Cnt[y,x] > 230 : # -60. :\n",
    "     cntRGB[y,x,:] = [0,200,200]\n",
    "  elif Cnt[y,x] > 211 : #< -40. :\n",
    "     cntRGB[y,x,:] = [0,0,0]\n",
    "  elif Cnt[y,x] > 184 : # -20. :\n",
    "     cntRGB[y,x,:] = [200,155,0]\n",
    "  elif Cnt[y,x] > 149 : # 0. :\n",
    "     cntRGB[y,x,:] = [0,145,0]\n",
    "  elif Cnt[y,x] > 105: # 20. :\n",
    "     cntRGB[y,x,:] = [0,40,255]\n",
    "  else :\n",
    "     cntRGB[y,x,:] = [0,40,200]\n",
    "\n",
    "img = Image.fromarray(cntRGB,'RGB')"
   ]
  },
  {
   "cell_type": "code",
   "execution_count": 11,
   "id": "cdc4a7a7",
   "metadata": {},
   "outputs": [],
   "source": [
    "ShapePath = '../Table/gshhg-shp-2.3.7'\n",
    "cw = ContourWriterAGG(ShapePath)\n",
    "cw.add_coastlines(img,Image_def,resolution='l',outline=(255,0,0),width=2)\n",
    "#img.show()\n",
    "ttfFile = '../Table/LiberationMono-Regular.ttf'\n",
    "font = aggdraw.Font('white',ttfFile)\n",
    "cw.add_grid(img,Image_def,(20,20),(10,10),font,outline=(0,0,255),width=3)\n",
    "img.show()\n",
    "img.save('color.png')"
   ]
  },
  {
   "cell_type": "markdown",
   "id": "44c89812",
   "metadata": {},
   "source": [
    "## 完成Lesson6之後，各位已經具備以下基本能力：\n",
    "1. Python程式語言\n",
    "2. 從網路上下載衛星資料\n",
    "3. 繪製衛星雲圖\n",
    "\n",
    "## 接下來的用途：\n",
    "- 專題\n",
    "- 天氣事件的觀察與分析\n",
    "- 學術研究\n"
   ]
  },
  {
   "cell_type": "code",
   "execution_count": null,
   "id": "1564efd4",
   "metadata": {},
   "outputs": [],
   "source": []
  }
 ],
 "metadata": {
  "kernelspec": {
   "display_name": "Python 3 (ipykernel)",
   "language": "python",
   "name": "python3"
  },
  "language_info": {
   "codemirror_mode": {
    "name": "ipython",
    "version": 3
   },
   "file_extension": ".py",
   "mimetype": "text/x-python",
   "name": "python",
   "nbconvert_exporter": "python",
   "pygments_lexer": "ipython3",
   "version": "3.9.12"
  }
 },
 "nbformat": 4,
 "nbformat_minor": 5
}
